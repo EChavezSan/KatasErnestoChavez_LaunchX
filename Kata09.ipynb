{
 "cells": [
  {
   "cell_type": "markdown",
   "metadata": {},
   "source": [
    "#Ejercicio 1"
   ]
  },
  {
   "cell_type": "code",
   "execution_count": 8,
   "metadata": {},
   "outputs": [
    {
     "name": "stdout",
     "output_type": "stream",
     "text": [
      "67.0\n"
     ]
    }
   ],
   "source": [
    "def promedio(numeros):\n",
    "    return sum(numeros)/len(numeros)\n",
    "\n",
    "def informes(lec01,lec02,lec03):\n",
    "    prom = promedio([lec01,lec02,lec03])\n",
    "    return prom\n",
    "\n",
    "\n",
    "print(informes(69,85,47))\n"
   ]
  },
  {
   "cell_type": "markdown",
   "metadata": {},
   "source": [
    "#Ejercicio 2"
   ]
  },
  {
   "cell_type": "code",
   "execution_count": 5,
   "metadata": {},
   "outputs": [
    {
     "name": "stdout",
     "output_type": "stream",
     "text": [
      "('Marte', 30, 104, 'tanqInt:16 tanExt:88 ')\n"
     ]
    }
   ],
   "source": [
    "def reporte(destino,*tiempo,**combustible):\n",
    "    info = \"\"\n",
    "    for nombre, cantidad in combustible.items():\n",
    "        info += f'{nombre}:{cantidad} '\n",
    "\n",
    "    return destino, sum(tiempo), sum(combustible.values()),info\n",
    "\n",
    "print(reporte(\"Marte\", 15,15,tanqInt=16,tanExt=88))"
   ]
  }
 ],
 "metadata": {
  "interpreter": {
   "hash": "9a3e7d3726cf17ac724205ce576b9543792b86b6f07b93d689383c2f77d0176c"
  },
  "kernelspec": {
   "display_name": "Python 3.10.2 64-bit",
   "language": "python",
   "name": "python3"
  },
  "language_info": {
   "codemirror_mode": {
    "name": "ipython",
    "version": 3
   },
   "file_extension": ".py",
   "mimetype": "text/x-python",
   "name": "python",
   "nbconvert_exporter": "python",
   "pygments_lexer": "ipython3",
   "version": "3.10.2"
  },
  "orig_nbformat": 4
 },
 "nbformat": 4,
 "nbformat_minor": 2
}
