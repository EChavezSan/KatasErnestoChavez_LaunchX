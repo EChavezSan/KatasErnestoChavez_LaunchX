{
 "cells": [
  {
   "cell_type": "markdown",
   "metadata": {},
   "source": [
    "#Ejercicio 1"
   ]
  },
  {
   "cell_type": "code",
   "execution_count": 59,
   "metadata": {},
   "outputs": [
    {
     "name": "stdout",
     "output_type": "stream",
     "text": [
      "average,\n",
      "temperature\n",
      "Interesting facts about the Moon. The Moon is Earth's only satellite. There are several interesting facts about the Moon and how it affects life here on Earth. On average, the Moon moves 4cm away from the Earth every year. This yearly drift is not significant enough to cause immediate effects on Earth. The highest daylight temperature of the Moon is 127 Celsius.\n"
     ]
    }
   ],
   "source": [
    "#Variable text\n",
    "text = \"\"\"Interesting facts about the Moon. The Moon is Earth's only satellite. There are several interesting facts about the Moon and how it affects life here on Earth. On average, the Moon moves 4cm away from the Earth every year. This yearly drift is not significant enough to cause immediate effects on Earth. The highest daylight temperature of the Moon is 127 C.\"\"\"\n",
    "\n",
    "#Se separa la variable text\n",
    "text_sep = text .split()\n",
    "\n",
    "#Se crea un arreglo para las palabras clave\n",
    "keyWords = [\"average\", \"temperature\", \"distance\"]\n",
    "\n",
    "\n",
    "#Se usan dos ciclos 'for' anidados para encontrar las palabras clave en el texto\n",
    "for i in text_sep:\n",
    "    for j in keyWords:\n",
    "        if j in i:\n",
    "            print(i)\n",
    "            break\n",
    "#Se agregó el método replace para cambiar \" C\" por \" Celsius\"\n",
    "print(text.replace(' C', ' Celsius'))\n",
    "            \n",
    "\n"
   ]
  },
  {
   "cell_type": "markdown",
   "metadata": {},
   "source": [
    "#Ejercicio 2"
   ]
  },
  {
   "cell_type": "code",
   "execution_count": 86,
   "metadata": {},
   "outputs": [
    {
     "name": "stdout",
     "output_type": "stream",
     "text": [
      "---Información sobre la gravedad en Luna---\n",
      "\n",
      "Nombre del planeta: Tierra \n",
      "Gravedad en Luna: 1.6199999999999999 m/s2 \n",
      " \n",
      "\n",
      "---Información sobre la gravedad en Ganímedes---\n",
      "Nombre del planeta: Marte \n",
      "Gravedad en Ganímedes: 1.4300000000000002 m/s2 \n",
      "\n"
     ]
    }
   ],
   "source": [
    "# Datos con los que vas a trabajar\n",
    "name = \"Luna\"\n",
    "gravity = 0.00162 # in kms\n",
    "planet = \"Tierra\"\n",
    "\n",
    "\n",
    "title = 'Información sobre la gravedad en '\n",
    "\n",
    "txtTemplate = f\"\"\"\n",
    "Nombre del planeta: {planet} \n",
    "Gravedad en {name}: {gravity * 1000} m/s2 \n",
    "\"\"\"\n",
    "\n",
    "#Se unen las 2 cadenas\n",
    "\n",
    "txtFinal = f\"\"\"---{title}{name}---\n",
    "{txtTemplate} \n",
    "\"\"\" \n",
    "print(txtFinal)\n",
    "\n",
    "\n",
    "newTxtTemplate = \"\"\"---{title}{name}---\n",
    "Nombre del planeta: {planet} \n",
    "Gravedad en {name}: {gravity} m/s2 \n",
    "\"\"\"\n",
    "\n",
    "print(newTxtTemplate.format(title=title,name=\"Ganímedes\", planet=\"Marte\", gravity=0.00143*1000))"
   ]
  }
 ],
 "metadata": {
  "interpreter": {
   "hash": "9a3e7d3726cf17ac724205ce576b9543792b86b6f07b93d689383c2f77d0176c"
  },
  "kernelspec": {
   "display_name": "Python 3.10.2 64-bit",
   "language": "python",
   "name": "python3"
  },
  "language_info": {
   "codemirror_mode": {
    "name": "ipython",
    "version": 3
   },
   "file_extension": ".py",
   "mimetype": "text/x-python",
   "name": "python",
   "nbconvert_exporter": "python",
   "pygments_lexer": "ipython3",
   "version": "3.10.2"
  },
  "orig_nbformat": 4
 },
 "nbformat": 4,
 "nbformat_minor": 2
}
