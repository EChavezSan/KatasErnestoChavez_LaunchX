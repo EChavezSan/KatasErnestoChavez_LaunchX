{
 "cells": [
  {
   "cell_type": "markdown",
   "metadata": {},
   "source": [
    "#Ejercicio 1"
   ]
  },
  {
   "cell_type": "code",
   "execution_count": 13,
   "metadata": {},
   "outputs": [
    {
     "name": "stdout",
     "output_type": "stream",
     "text": [
      "Km: 628949330 \n",
      " Millas: 390577533.93\n"
     ]
    }
   ],
   "source": [
    "distTierra = 149597870\n",
    "distJupiter = 778547200\n",
    "\n",
    "res = abs(distTierra - distJupiter)\n",
    "millas = res * 0.621\n",
    "\n",
    "print(\"Km:\",res,\"\\n\",\"Millas:\",millas)"
   ]
  },
  {
   "cell_type": "markdown",
   "metadata": {},
   "source": [
    "#Ejercicio 2"
   ]
  },
  {
   "cell_type": "code",
   "execution_count": 14,
   "metadata": {},
   "outputs": [
    {
     "name": "stdout",
     "output_type": "stream",
     "text": [
      "Km: 440 \n",
      " Millas: 273.24\n"
     ]
    }
   ],
   "source": [
    "planeta01 = input(\"¿Cuál es la distancia del primer planeta con el sol?\")\n",
    "planeta02 = input(\"¿Cuál es la distancia del segundo planeta con el sol?\")\n",
    "\n",
    "num01 = int(planeta01)\n",
    "num02 = int(planeta02)\n",
    "\n",
    "res = abs(num01 - num02)\n",
    "millas = res * 0.621\n",
    "\n",
    "print(\"Km:\",res,\"\\n\",\"Millas:\",millas)"
   ]
  }
 ],
 "metadata": {
  "interpreter": {
   "hash": "9a3e7d3726cf17ac724205ce576b9543792b86b6f07b93d689383c2f77d0176c"
  },
  "kernelspec": {
   "display_name": "Python 3.10.2 64-bit",
   "language": "python",
   "name": "python3"
  },
  "language_info": {
   "codemirror_mode": {
    "name": "ipython",
    "version": 3
   },
   "file_extension": ".py",
   "mimetype": "text/x-python",
   "name": "python",
   "nbconvert_exporter": "python",
   "pygments_lexer": "ipython3",
   "version": "3.10.2"
  },
  "orig_nbformat": 4
 },
 "nbformat": 4,
 "nbformat_minor": 2
}
